{
  "nbformat": 4,
  "nbformat_minor": 0,
  "metadata": {
    "colab": {
      "name": "Classification using Keras",
      "provenance": []
    },
    "kernelspec": {
      "name": "python3",
      "display_name": "Python 3"
    },
    "language_info": {
      "name": "python"
    }
  },
  "cells": [
    {
      "cell_type": "markdown",
      "source": [
        "# IMPORTING LIBRARIES"
      ],
      "metadata": {
        "id": "04aO8paKth0C"
      }
    },
    {
      "cell_type": "code",
      "execution_count": 35,
      "metadata": {
        "id": "MVOE-C_lY92Q"
      },
      "outputs": [],
      "source": [
        "import tensorflow as tf\n",
        "from tensorflow import keras\n",
        "import matplotlib.pyplot as plt\n",
        "import pandas as pd"
      ]
    },
    {
      "cell_type": "markdown",
      "source": [
        "#FETCHING DATASET"
      ],
      "metadata": {
        "id": "r-4tudXgtnVP"
      }
    },
    {
      "cell_type": "code",
      "source": [
        "dataset = keras.datasets.fashion_mnist"
      ],
      "metadata": {
        "id": "TNQX4uIiZIPK"
      },
      "execution_count": 5,
      "outputs": []
    },
    {
      "cell_type": "code",
      "source": [
        "train,test =dataset.load_data()"
      ],
      "metadata": {
        "colab": {
          "base_uri": "https://localhost:8080/"
        },
        "id": "4tqugcFHZjHX",
        "outputId": "b2f506c9-4c51-4240-ad45-38f6456d2aea"
      },
      "execution_count": 7,
      "outputs": [
        {
          "output_type": "stream",
          "name": "stdout",
          "text": [
            "Downloading data from https://storage.googleapis.com/tensorflow/tf-keras-datasets/train-labels-idx1-ubyte.gz\n",
            "32768/29515 [=================================] - 0s 0us/step\n",
            "40960/29515 [=========================================] - 0s 0us/step\n",
            "Downloading data from https://storage.googleapis.com/tensorflow/tf-keras-datasets/train-images-idx3-ubyte.gz\n",
            "26427392/26421880 [==============================] - 0s 0us/step\n",
            "26435584/26421880 [==============================] - 0s 0us/step\n",
            "Downloading data from https://storage.googleapis.com/tensorflow/tf-keras-datasets/t10k-labels-idx1-ubyte.gz\n",
            "16384/5148 [===============================================================================================] - 0s 0us/step\n",
            "Downloading data from https://storage.googleapis.com/tensorflow/tf-keras-datasets/t10k-images-idx3-ubyte.gz\n",
            "4423680/4422102 [==============================] - 0s 0us/step\n",
            "4431872/4422102 [==============================] - 0s 0us/step\n"
          ]
        }
      ]
    },
    {
      "cell_type": "code",
      "source": [
        "x_train, y_train = train\n",
        "x_test, y_test = test"
      ],
      "metadata": {
        "id": "9SGa7In2ZqfT"
      },
      "execution_count": 8,
      "outputs": []
    },
    {
      "cell_type": "markdown",
      "source": [
        "# PREPPING DATA"
      ],
      "metadata": {
        "id": "XbJsDNAotsyN"
      }
    },
    {
      "cell_type": "code",
      "source": [
        "plt.imshow(x_train[0], cmap='gray')"
      ],
      "metadata": {
        "colab": {
          "base_uri": "https://localhost:8080/",
          "height": 282
        },
        "id": "2NDfM5LJaCVa",
        "outputId": "51683d12-8e6d-4320-8514-6ab25f043146"
      },
      "execution_count": 14,
      "outputs": [
        {
          "output_type": "execute_result",
          "data": {
            "text/plain": [
              "<matplotlib.image.AxesImage at 0x7f6adc416fd0>"
            ]
          },
          "metadata": {},
          "execution_count": 14
        },
        {
          "output_type": "display_data",
          "data": {
            "image/png": "[encoded data removed]",
            "text/plain": [
              "<Figure size 432x288 with 1 Axes>"
            ]
          },
          "metadata": {
            "needs_background": "light"
          }
        }
      ]
    },
    {
      "cell_type": "code",
      "source": [
        "x_train.shape"
      ],
      "metadata": {
        "colab": {
          "base_uri": "https://localhost:8080/"
        },
        "id": "Vf4EQyh9aTSw",
        "outputId": "c7b99987-2b01-4685-ef3b-77671cee8cb6"
      },
      "execution_count": 16,
      "outputs": [
        {
          "output_type": "execute_result",
          "data": {
            "text/plain": [
              "(60000, 28, 28)"
            ]
          },
          "metadata": {},
          "execution_count": 16
        }
      ]
    },
    {
      "cell_type": "code",
      "source": [
        "x_val,x_train_final= x_train[:5000]/255.0,x_train[5000:]/255.0\n",
        "y_val, y_train_final = y_train[:5000], y_train[5000:]"
      ],
      "metadata": {
        "id": "p5CMRieLam9d"
      },
      "execution_count": 18,
      "outputs": []
    },
    {
      "cell_type": "markdown",
      "source": [
        "# BUILDING AND TRAINING MODEL"
      ],
      "metadata": {
        "id": "k_mDSPBMtwje"
      }
    },
    {
      "cell_type": "code",
      "source": [
        "model = keras.models.Sequential()"
      ],
      "metadata": {
        "id": "jEtmFe7VbfhD"
      },
      "execution_count": 26,
      "outputs": []
    },
    {
      "cell_type": "code",
      "source": [
        "model.add(keras.layers.Flatten(input_shape=[28,28]))"
      ],
      "metadata": {
        "id": "cdj5I2OpboFi"
      },
      "execution_count": 27,
      "outputs": []
    },
    {
      "cell_type": "code",
      "source": [
        "model.add(keras.layers.Dense(300, activation='relu'))"
      ],
      "metadata": {
        "id": "YkDblmcpcAnf"
      },
      "execution_count": 28,
      "outputs": []
    },
    {
      "cell_type": "code",
      "source": [
        "model.add(keras.layers.Dense(100,activation='relu'))"
      ],
      "metadata": {
        "id": "hB7i8t_IcMR0"
      },
      "execution_count": 29,
      "outputs": []
    },
    {
      "cell_type": "code",
      "source": [
        "model.add(keras.layers.Dense(10,activation='softmax'))"
      ],
      "metadata": {
        "id": "UytU1T6TcS4i"
      },
      "execution_count": 30,
      "outputs": []
    },
    {
      "cell_type": "code",
      "source": [
        "model.summary()"
      ],
      "metadata": {
        "colab": {
          "base_uri": "https://localhost:8080/"
        },
        "id": "OCFq2HAhchsQ",
        "outputId": "df48b209-393d-424c-8109-870c137573b2"
      },
      "execution_count": 31,
      "outputs": [
        {
          "output_type": "stream",
          "name": "stdout",
          "text": [
            "Model: \"sequential_1\"\n",
            "_________________________________________________________________\n",
            " Layer (type)                Output Shape              Param #   \n",
            "=================================================================\n",
            " flatten_1 (Flatten)         (None, 784)               0         \n",
            "                                                                 \n",
            " dense_4 (Dense)             (None, 300)               235500    \n",
            "                                                                 \n",
            " dense_5 (Dense)             (None, 100)               30100     \n",
            "                                                                 \n",
            " dense_6 (Dense)             (None, 10)                1010      \n",
            "                                                                 \n",
            "=================================================================\n",
            "Total params: 266,610\n",
            "Trainable params: 266,610\n",
            "Non-trainable params: 0\n",
            "_________________________________________________________________\n"
          ]
        }
      ]
    },
    {
      "cell_type": "code",
      "source": [
        "model.compile(loss='sparse_categorical_crossentropy',optimizer='adam',metrics='accuracy')"
      ],
      "metadata": {
        "id": "ukkPrE00cvob"
      },
      "execution_count": 32,
      "outputs": []
    },
    {
      "cell_type": "code",
      "source": [
        "clf = model.fit(x_train_final,y_train_final,validation_data=(x_val,y_val),epochs=30)"
      ],
      "metadata": {
        "colab": {
          "base_uri": "https://localhost:8080/"
        },
        "id": "grXGIVeWdyA7",
        "outputId": "53652d38-2572-49fa-ba7a-6f60b8413f6b"
      },
      "execution_count": 37,
      "outputs": [
        {
          "output_type": "stream",
          "name": "stdout",
          "text": [
            "Epoch 1/30\n",
            "1719/1719 [==============================] - 5s 3ms/step - loss: 0.1238 - accuracy: 0.9521 - val_loss: 0.4378 - val_accuracy: 0.8990\n",
            "Epoch 2/30\n",
            "1719/1719 [==============================] - 5s 3ms/step - loss: 0.1219 - accuracy: 0.9527 - val_loss: 0.4728 - val_accuracy: 0.8912\n",
            "Epoch 3/30\n",
            "1719/1719 [==============================] - 5s 3ms/step - loss: 0.1161 - accuracy: 0.9560 - val_loss: 0.4361 - val_accuracy: 0.8968\n",
            "Epoch 4/30\n",
            "1719/1719 [==============================] - 5s 3ms/step - loss: 0.1173 - accuracy: 0.9547 - val_loss: 0.4369 - val_accuracy: 0.9000\n",
            "Epoch 5/30\n",
            "1719/1719 [==============================] - 5s 3ms/step - loss: 0.1130 - accuracy: 0.9557 - val_loss: 0.4547 - val_accuracy: 0.8988\n",
            "Epoch 6/30\n",
            "1719/1719 [==============================] - 5s 3ms/step - loss: 0.1088 - accuracy: 0.9578 - val_loss: 0.5330 - val_accuracy: 0.8866\n",
            "Epoch 7/30\n",
            "1719/1719 [==============================] - 5s 3ms/step - loss: 0.1122 - accuracy: 0.9570 - val_loss: 0.5004 - val_accuracy: 0.8952\n",
            "Epoch 8/30\n",
            "1719/1719 [==============================] - 6s 3ms/step - loss: 0.1061 - accuracy: 0.9595 - val_loss: 0.4720 - val_accuracy: 0.8974\n",
            "Epoch 9/30\n",
            "1719/1719 [==============================] - 6s 3ms/step - loss: 0.1048 - accuracy: 0.9599 - val_loss: 0.4994 - val_accuracy: 0.8968\n",
            "Epoch 10/30\n",
            "1719/1719 [==============================] - 6s 3ms/step - loss: 0.0995 - accuracy: 0.9621 - val_loss: 0.5325 - val_accuracy: 0.8952\n",
            "Epoch 11/30\n",
            "1719/1719 [==============================] - 6s 3ms/step - loss: 0.1032 - accuracy: 0.9599 - val_loss: 0.4875 - val_accuracy: 0.8974\n",
            "Epoch 12/30\n",
            "1719/1719 [==============================] - 6s 3ms/step - loss: 0.0976 - accuracy: 0.9625 - val_loss: 0.4976 - val_accuracy: 0.8994\n",
            "Epoch 13/30\n",
            "1719/1719 [==============================] - 6s 3ms/step - loss: 0.0977 - accuracy: 0.9627 - val_loss: 0.5305 - val_accuracy: 0.8962\n",
            "Epoch 14/30\n",
            "1719/1719 [==============================] - 6s 4ms/step - loss: 0.0953 - accuracy: 0.9642 - val_loss: 0.5598 - val_accuracy: 0.8948\n",
            "Epoch 15/30\n",
            "1719/1719 [==============================] - 6s 3ms/step - loss: 0.0964 - accuracy: 0.9636 - val_loss: 0.5811 - val_accuracy: 0.9006\n",
            "Epoch 16/30\n",
            "1719/1719 [==============================] - 6s 3ms/step - loss: 0.0924 - accuracy: 0.9645 - val_loss: 0.5623 - val_accuracy: 0.8948\n",
            "Epoch 17/30\n",
            "1719/1719 [==============================] - 6s 3ms/step - loss: 0.0899 - accuracy: 0.9665 - val_loss: 0.5772 - val_accuracy: 0.9006\n",
            "Epoch 18/30\n",
            "1719/1719 [==============================] - 6s 3ms/step - loss: 0.0874 - accuracy: 0.9664 - val_loss: 0.5819 - val_accuracy: 0.8918\n",
            "Epoch 19/30\n",
            "1719/1719 [==============================] - 6s 3ms/step - loss: 0.0866 - accuracy: 0.9670 - val_loss: 0.6152 - val_accuracy: 0.8960\n",
            "Epoch 20/30\n",
            "1719/1719 [==============================] - 6s 3ms/step - loss: 0.0881 - accuracy: 0.9667 - val_loss: 0.5874 - val_accuracy: 0.8902\n",
            "Epoch 21/30\n",
            "1719/1719 [==============================] - 6s 3ms/step - loss: 0.0869 - accuracy: 0.9676 - val_loss: 0.6698 - val_accuracy: 0.8958\n",
            "Epoch 22/30\n",
            "1719/1719 [==============================] - 6s 3ms/step - loss: 0.0831 - accuracy: 0.9677 - val_loss: 0.6161 - val_accuracy: 0.8976\n",
            "Epoch 23/30\n",
            "1719/1719 [==============================] - 6s 3ms/step - loss: 0.0786 - accuracy: 0.9701 - val_loss: 0.6322 - val_accuracy: 0.8980\n",
            "Epoch 24/30\n",
            "1719/1719 [==============================] - 6s 3ms/step - loss: 0.0797 - accuracy: 0.9703 - val_loss: 0.6088 - val_accuracy: 0.8956\n",
            "Epoch 25/30\n",
            "1719/1719 [==============================] - 6s 3ms/step - loss: 0.0795 - accuracy: 0.9698 - val_loss: 0.6338 - val_accuracy: 0.8964\n",
            "Epoch 26/30\n",
            "1719/1719 [==============================] - 6s 3ms/step - loss: 0.0802 - accuracy: 0.9699 - val_loss: 0.6456 - val_accuracy: 0.9002\n",
            "Epoch 27/30\n",
            "1719/1719 [==============================] - 6s 3ms/step - loss: 0.0735 - accuracy: 0.9718 - val_loss: 0.6759 - val_accuracy: 0.8930\n",
            "Epoch 28/30\n",
            "1719/1719 [==============================] - 6s 3ms/step - loss: 0.0792 - accuracy: 0.9698 - val_loss: 0.6503 - val_accuracy: 0.8898\n",
            "Epoch 29/30\n",
            "1719/1719 [==============================] - 6s 4ms/step - loss: 0.0751 - accuracy: 0.9719 - val_loss: 0.6820 - val_accuracy: 0.8968\n",
            "Epoch 30/30\n",
            "1719/1719 [==============================] - 6s 4ms/step - loss: 0.0697 - accuracy: 0.9729 - val_loss: 0.7116 - val_accuracy: 0.8982\n"
          ]
        }
      ]
    },
    {
      "cell_type": "markdown",
      "source": [
        "# CHECKING ACCURACY"
      ],
      "metadata": {
        "id": "WFsNYz4et8l5"
      }
    },
    {
      "cell_type": "code",
      "source": [
        "test = model.evaluate(x_test,y_test)"
      ],
      "metadata": {
        "colab": {
          "base_uri": "https://localhost:8080/"
        },
        "id": "uaLKANVIeO6C",
        "outputId": "9871535e-e1ae-44df-dc89-5bf95da09814"
      },
      "execution_count": 38,
      "outputs": [
        {
          "output_type": "stream",
          "name": "stdout",
          "text": [
            "313/313 [==============================] - 1s 2ms/step - loss: 164.3789 - accuracy: 0.8672\n"
          ]
        }
      ]
    },
    {
      "cell_type": "code",
      "source": [
        "pd.DataFrame(clf.history).plot()\n",
        "plt.grid(True)"
      ],
      "metadata": {
        "colab": {
          "base_uri": "https://localhost:8080/",
          "height": 265
        },
        "id": "RH4yaTjVfaHh",
        "outputId": "e908d930-99e5-4f0b-8725-7196dca902d0"
      },
      "execution_count": 40,
      "outputs": [
        {
          "output_type": "display_data",
          "data": {
            "image/png": "[encoded data removed]",
            "text/plain": [
              "<Figure size 432x288 with 1 Axes>"
            ]
          },
          "metadata": {
            "needs_background": "light"
          }
        }
      ]
    },
    {
      "cell_type": "code",
      "source": [
        "x=x_test[:1][0]\n",
        "plt.imshow(x,cmap='gray')"
      ],
      "metadata": {
        "colab": {
          "base_uri": "https://localhost:8080/",
          "height": 282
        },
        "id": "k7Buny58rAlb",
        "outputId": "83cab6e3-e078-4d69-eed1-9da474ec89c6"
      },
      "execution_count": 44,
      "outputs": [
        {
          "output_type": "execute_result",
          "data": {
            "text/plain": [
              "<matplotlib.image.AxesImage at 0x7f6ad78476d0>"
            ]
          },
          "metadata": {},
          "execution_count": 44
        },
        {
          "output_type": "display_data",
          "data": {
            "image/png": "[encoded data removed]",
            "text/plain": [
              "<Figure size 432x288 with 1 Axes>"
            ]
          },
          "metadata": {
            "needs_background": "light"
          }
        }
      ]
    },
    {
      "cell_type": "code",
      "source": [
        "x.shape"
      ],
      "metadata": {
        "colab": {
          "base_uri": "https://localhost:8080/"
        },
        "id": "PBOc4m7TsHOx",
        "outputId": "762a8940-317b-4b39-bd35-d1f42ae45f01"
      },
      "execution_count": 51,
      "outputs": [
        {
          "output_type": "execute_result",
          "data": {
            "text/plain": [
              "(28, 28)"
            ]
          },
          "metadata": {},
          "execution_count": 51
        }
      ]
    },
    {
      "cell_type": "code",
      "source": [
        "pred= model.predict(x_test[:1])\n",
        "pred "
      ],
      "metadata": {
        "colab": {
          "base_uri": "https://localhost:8080/"
        },
        "id": "_V0cm3G4rGPv",
        "outputId": "88a0e73e-2513-478e-ee85-821a63075c37"
      },
      "execution_count": 52,
      "outputs": [
        {
          "output_type": "execute_result",
          "data": {
            "text/plain": [
              "array([[0., 0., 0., 0., 0., 0., 0., 0., 0., 1.]], dtype=float32)"
            ]
          },
          "metadata": {},
          "execution_count": 52
        }
      ]
    },
    {
      "cell_type": "code",
      "source": [
        "y=y_test[:1]\n",
        "y"
      ],
      "metadata": {
        "colab": {
          "base_uri": "https://localhost:8080/"
        },
        "id": "p5n8XWkCrhGh",
        "outputId": "c606a877-b235-41bb-d2d3-cdf76efa861d"
      },
      "execution_count": 55,
      "outputs": [
        {
          "output_type": "execute_result",
          "data": {
            "text/plain": [
              "array([9], dtype=uint8)"
            ]
          },
          "metadata": {},
          "execution_count": 55
        }
      ]
    }
  ]
}